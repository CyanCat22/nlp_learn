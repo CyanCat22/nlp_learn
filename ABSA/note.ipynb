{
 "cells": [
  {
   "cell_type": "markdown",
   "metadata": {},
   "source": [
    "# 细粒度情感分析\n",
    "\n",
    "> aspect-based sentiment analysis (ABSA)  \n",
    "> 情感分析（sentiment analysis）和 观点挖掘（opinion mining）\n"
   ]
  },
  {
   "cell_type": "markdown",
   "metadata": {},
   "source": [
    "## 传统情感分析\n"
   ]
  },
  {
   "cell_type": "markdown",
   "metadata": {},
   "source": [
    "## ABSA\n",
    "\n",
    "目标从整个句子或文件转移到一个实体(entity)或实体的某个方面\n",
    "\n",
    "### Single ABSA\n",
    "\n",
    "aspect term extraction(ATE)\n",
    "\n",
    "### Compound ABSA\n",
    "\n",
    "BART T5\n",
    "aspect-opinion pair(APOE) extraction task\n"
   ]
  },
  {
   "cell_type": "markdown",
   "metadata": {},
   "source": [
    "## 单词学习\n",
    "\n",
    "### 专业性\n",
    "\n",
    "generalization capability 泛化能力  \n",
    "robustness 鲁棒性  \n",
    "extraction 提取  \n",
    "benchmark  \n",
    "cross-domain 跨领域  \n",
    "cross-lingual 跨语言  \n",
    "original sentence 原始句  \n",
    "auxiliary sentence 辅助句  \n",
    "decompose the original task 分解  \n",
    "semantic 语义的\n",
    "\n",
    "### 描述性\n",
    "\n",
    "respectively 分别地、各自地  \n",
    "ubiquitous 无处不在，普遍的  \n",
    "compound 复合  \n",
    "emerging trends 新兴趋势  \n",
    "comprehensive review 全面回顾  \n",
    "induce 诱导  \n",
    "utilize 利用  \n",
    "presumably 大概是  \n",
    "redundant 多余的  \n",
    "redundancy 冗余  \n",
    "outperform 超过\n"
   ]
  }
 ],
 "metadata": {
  "language_info": {
   "name": "python"
  }
 },
 "nbformat": 4,
 "nbformat_minor": 2
}
