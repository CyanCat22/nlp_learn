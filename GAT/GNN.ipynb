{
 "cells": [
  {
   "cell_type": "markdown",
   "metadata": {},
   "source": [
    "# GNN 图神经网络\n",
    "\n",
    "构建图\n",
    "图与其他类型的区别\n"
   ]
  },
  {
   "cell_type": "markdown",
   "metadata": {},
   "source": [
    "## 什么是图？\n",
    "\n",
    "图的组成：  \n",
    "节点(nodes )和连接(edges)\n",
    "图的特点：\n",
    "\n",
    "- 没有固定的节点顺序和参考锚点\n",
    "- 动态变化、多模态特征\n",
    "\n",
    "图的种类：\n",
    "\n",
    "随机游走  \n",
    "![](./img/graph.png)\n"
   ]
  },
  {
   "cell_type": "markdown",
   "metadata": {},
   "source": [
    "## 工具\n",
    "\n",
    "- [PYG](https://pytorch-geometric.readthedocs.io/en/latest/index.html)\n",
    "- [netwoekx](https://networkx.org/documentation/stable/tutorial.html#attributes)\n"
   ]
  },
  {
   "cell_type": "code",
   "execution_count": 1,
   "metadata": {},
   "outputs": [],
   "source": [
    "import dgl\n",
    "import torch"
   ]
  },
  {
   "cell_type": "markdown",
   "metadata": {},
   "source": [
    "---\n",
    "\n",
    "## 参考\n",
    "\n",
    "[GNN-Intro](https://distill.pub/2021/gnn-intro/)  \n",
    "[DGL-Hub](https://docs.dgl.ai/en/latest/guide_cn/graph-graphs-nodes-edges.html)\n"
   ]
  }
 ],
 "metadata": {
  "kernelspec": {
   "display_name": "py310",
   "language": "python",
   "name": "python3"
  },
  "language_info": {
   "codemirror_mode": {
    "name": "ipython",
    "version": 3
   },
   "file_extension": ".py",
   "mimetype": "text/x-python",
   "name": "python",
   "nbconvert_exporter": "python",
   "pygments_lexer": "ipython3",
   "version": "3.10.12"
  }
 },
 "nbformat": 4,
 "nbformat_minor": 2
}
