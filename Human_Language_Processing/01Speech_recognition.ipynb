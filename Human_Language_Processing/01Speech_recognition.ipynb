{
 "cells": [
  {
   "cell_type": "markdown",
   "metadata": {},
   "source": [
    "## 人类语言处理\n",
    "\n",
    "学海无涯苦作舟~~~  \n",
    "六个模型\n",
    "\n",
    "- 语音识别\n",
    "- 语音生成\n",
    "- 语音分类 Speech Separation\n",
    "- Voice Conversion (变声)\n",
    "- Which Speaker\n",
    "- Text Generation\n",
    "  硬 train 一发是一种信念，是一种梦想，是一种浪漫，是人类最原始的冲动，是亘古以来人类的目标。——李宏毅  \n",
    "  功能多样  \n",
    "  larger and larger\n"
   ]
  },
  {
   "cell_type": "markdown",
   "metadata": {},
   "source": [
    "### Speech Recognition 语音辨识\n",
    "\n",
    "Token\n",
    "\n",
    "Phoneme:a unit of **sound** (类似于音标)\n",
    "Lexicon:word to phonemes (需要词典)\n",
    "\n",
    "Grapheme:smallest unit of a **writing** system  \n",
    "包含 26 English alphabet + space + punctuation marks  \n",
    "Lexicon free!\n",
    "\n",
    "Word  \n",
    "but for some languages, V can be too large!\n",
    "\n",
    "Morpheme:The smallest **meaningful** unit(<word, >grapheme)\n",
    "\n",
    "Bytes:the system can be **language independent** (utf-8)  \n",
    "V is always 256\n"
   ]
  },
  {
   "cell_type": "code",
   "execution_count": null,
   "metadata": {},
   "outputs": [],
   "source": []
  }
 ],
 "metadata": {
  "kernelspec": {
   "display_name": "py310",
   "language": "python",
   "name": "python3"
  },
  "language_info": {
   "name": "python",
   "version": "3.10.12"
  }
 },
 "nbformat": 4,
 "nbformat_minor": 2
}
