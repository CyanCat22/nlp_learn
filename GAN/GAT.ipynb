{
 "cells": [
  {
   "cell_type": "markdown",
   "metadata": {},
   "source": [
    "# GAT 学习笔记\n",
    "\n",
    "Graph Attention Network  \n",
    "_为何叫 GAT 捏，因为 GAN 一般指的是 Generative Adversal Nets_  \n",
    "transductive 任务 训练阶段和测试阶段都基于同样的图结构  \n",
    "inductive 任务 处理动态图 训练阶段和测试阶段要处理的图不同\n",
    "\n",
    "masked self-attentional layers\n",
    "\n",
    "locally linear embedding (LLF)\n",
    "memory networks\n",
    "\n",
    "串联运算\n"
   ]
  },
  {
   "cell_type": "markdown",
   "metadata": {},
   "source": [
    "## 英语学习\n",
    "\n",
    "### 专业类词汇\n",
    "\n",
    "inductive 归纳性\n",
    "transductive\n",
    "benchmark 基准\n",
    "recursive 递归的、循环的\n",
    "grid-like 网格状\n",
    "acyclic 非周期、非环状\n",
    "cyclic\n",
    "sepctral\n",
    "aggregated 聚集\n",
    "\n",
    "### 描述类\n",
    "\n",
    "leverage\n",
    "arbitrarily\n",
    "intense computation 密集计算\n"
   ]
  },
  {
   "cell_type": "markdown",
   "metadata": {},
   "source": []
  }
 ],
 "metadata": {
  "language_info": {
   "name": "python"
  }
 },
 "nbformat": 4,
 "nbformat_minor": 2
}
