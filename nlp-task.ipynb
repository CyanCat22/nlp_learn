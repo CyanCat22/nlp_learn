{
 "cells": [
  {
   "cell_type": "markdown",
   "metadata": {},
   "source": [
    "---\n",
    "\n",
    "## 参考\n",
    "\n",
    "[task](https://zhuanlan.zhihu.com/p/109122090)  \n",
    "[从 Word Embedding 到 Bert 模型—自然语言处理中的预训练技术发展史](https://zhuanlan.zhihu.com/p/49271699)  \n",
    "[github 中文数据集 ChineseNlpCorpus](https://github.com/SophonPlus/ChineseNlpCorpus)\n",
    "\n",
    "## NLP 的四大类任务\n",
    "\n",
    "- 序列标注\n",
    "- 分类任务\n",
    "- 句子关系判断\n",
    "- 生成式任务\n",
    "\n",
    "![](./Bert/img/task.jpg)\n"
   ]
  },
  {
   "cell_type": "markdown",
   "metadata": {},
   "source": [
    "\n",
    "\n"
   ]
  },
  {
   "cell_type": "markdown",
   "metadata": {},
   "source": []
  }
 ],
 "metadata": {
  "language_info": {
   "name": "python"
  }
 },
 "nbformat": 4,
 "nbformat_minor": 2
}
