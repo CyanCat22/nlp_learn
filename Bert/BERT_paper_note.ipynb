{
 "cells": [
  {
   "cell_type": "markdown",
   "metadata": {},
   "source": [
    "# BERT\n",
    "\n",
    "bidirection Encoder Representation Transformer\n"
   ]
  },
  {
   "cell_type": "markdown",
   "metadata": {},
   "source": [
    "## Bert\n",
    "\n",
    "### 迁移学习\n",
    "\n",
    "- 使用预训练好的模型来抽取词、句子特征（例如 word2vec 或语言模型）\n",
    "- 不更新训练好的模型\n",
    "- 需要构建新的网络来抓取新任务需要的信息（word2vec 忽略了时序信息，语言模型只看了一个方向）\n"
   ]
  }
 ],
 "metadata": {
  "language_info": {
   "name": "python"
  }
 },
 "nbformat": 4,
 "nbformat_minor": 2
}
