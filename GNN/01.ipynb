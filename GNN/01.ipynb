{
 "cells": [
  {
   "cell_type": "markdown",
   "metadata": {},
   "source": [
    "# GNN 图神经网络\n",
    "\n",
    "构建图\n",
    "图与其他类型的区别\n"
   ]
  },
  {
   "cell_type": "markdown",
   "metadata": {},
   "source": [
    "## 什么是图？\n",
    "\n",
    "图的组成：  \n",
    "节点(nodes )和连接(edges)\n",
    "图的特点：\n",
    "\n",
    "- 没有固定的节点顺序和参考锚点\n",
    "- 动态变化、多模态特征\n",
    "\n",
    "图的种类：\n",
    "\n",
    "随机游走  \n",
    "![](./img/graph.png)\n"
   ]
  },
  {
   "cell_type": "markdown",
   "metadata": {},
   "source": [
    "## 工具\n",
    "\n",
    "- [PYG](https://pytorch-geometric.readthedocs.io/en/latest/index.html)\n",
    "- [netwoekx](https://networkx.org/documentation/stable/tutorial.html#attributes)\n"
   ]
  },
  {
   "cell_type": "code",
   "execution_count": 1,
   "metadata": {},
   "outputs": [],
   "source": [
    "import dgl\n",
    "import torch"
   ]
  },
  {
   "cell_type": "markdown",
   "metadata": {},
   "source": [
    "在这之中呢，会应用到**Mask Graph Attention**  \n",
    "将$2F$x1 的 attention kernel 当做两个$F'$x1 的小 kernal，一个负责自注意力，一个负责邻节点注意力。通过用这两个小 kernel 分别对$W\\vec{h_i}$ 和 $W\\vec{h_j}$相乘，就能得到两个张量，假设为 $\\vec{a_s} = \\{1, 2, 3, 4, 5\\}$ 和 $\\vec{a_n} = \\{a, b, c, d, e\\}$ , 将他们通过矩阵求和扩充到二维，即$\\vec{a_s}+\\vec{a_n}^T$, 可以得到一张二维表格：\n",
    "\n",
    "![](./img/mask1.png)\n",
    "\n",
    "我们再用前面的邻接矩阵 A 做一下 mask 进行过滤，即邻接矩阵 A 中元素为 0 的位置，将其注意力系数置为负无穷，这里简单用 0 代替：\n",
    "\n",
    "![](./img/mask2.png)\n",
    "\n",
    "这样 mask 一下，整个表格就会比较稀疏了。再将这个矩阵送入 softmax 就可以得到**注意力系数矩阵**了\n"
   ]
  },
  {
   "cell_type": "markdown",
   "metadata": {},
   "source": [
    "---\n",
    "\n",
    "## 参考\n",
    "\n",
    "[GNN-Intro](https://distill.pub/2021/gnn-intro/)  \n",
    "[DGL-Hub](https://docs.dgl.ai/en/latest/guide_cn/graph-graphs-nodes-edges.html)\n"
   ]
  }
 ],
 "metadata": {
  "kernelspec": {
   "display_name": "py310",
   "language": "python",
   "name": "python3"
  },
  "language_info": {
   "codemirror_mode": {
    "name": "ipython",
    "version": 3
   },
   "file_extension": ".py",
   "mimetype": "text/x-python",
   "name": "python",
   "nbconvert_exporter": "python",
   "pygments_lexer": "ipython3",
   "version": "3.10.12"
  }
 },
 "nbformat": 4,
 "nbformat_minor": 2
}
