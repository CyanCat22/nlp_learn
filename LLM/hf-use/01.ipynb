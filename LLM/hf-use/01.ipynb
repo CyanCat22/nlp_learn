{
 "cells": [
  {
   "cell_type": "markdown",
   "metadata": {},
   "source": [
    "# Huggingface Transformer 学习笔记\n",
    "\n",
    "需要安装 **transformers** 的第三方库\n",
    "\n",
    "```\n",
    "! pip install transformers\n",
    "```\n",
    "\n",
    "## 参考\n",
    "\n",
    "[手把手带你实战 HuggingFace Transformers](https://www.bilibili.com/video/BV1ma4y1g791/?spm_id_from=333.999.0.0&vd_source=1bd488d1399a9a16b309d94fb2bf7e6b)\n"
   ]
  },
  {
   "cell_type": "markdown",
   "metadata": {},
   "source": [
    "## 基础组件\n",
    "\n",
    "- `Pipeline` 流水线，用于模型推理\n",
    "- `Tokenizer` 分词器， 用于数据预处理\n",
    "- `Model` 用于加载、创建、保存模型\n",
    "- `Datasets` 数据集\n",
    "- `Evaluate` 评估\n",
    "- `Trainer`训练器，用于训练、评估\n",
    "\n",
    "## 一般流程\n",
    "\n",
    "_可见 rbt4 文本分类的 demo_\n",
    "\n",
    "1. 导入相关包\n",
    "2. 加载数据集 Datasets\n",
    "3. 数据集划分（测试集和训练集）\n",
    "4. 数据集预处理 Tokenizer\n",
    "5. 创建模型 Model\n",
    "6. 设置评估函数 Evaluate\n",
    "7. 配置训练参数 Training Arguments\n",
    "8. 创建训练器 Trainer + Data Collator\n",
    "9. 模型训练、评估、预测\n",
    "10. 模拟预测（单条）\n"
   ]
  },
  {
   "cell_type": "markdown",
   "metadata": {},
   "source": [
    "## 显存优化\n"
   ]
  },
  {
   "cell_type": "markdown",
   "metadata": {},
   "source": []
  },
  {
   "cell_type": "code",
   "execution_count": null,
   "metadata": {},
   "outputs": [],
   "source": []
  }
 ],
 "metadata": {
  "language_info": {
   "name": "python"
  }
 },
 "nbformat": 4,
 "nbformat_minor": 2
}
